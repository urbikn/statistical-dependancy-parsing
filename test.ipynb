{
 "cells": [
  {
   "cell_type": "markdown",
   "metadata": {},
   "source": [
    "## Testing ConllDataset"
   ]
  },
  {
   "cell_type": "code",
   "execution_count": 55,
   "metadata": {},
   "outputs": [],
   "source": [
    "from src.dataset import ConllDataset\n",
    "\n",
    "original_file = './data/wsj_dev.conll06.pred'\n",
    "conll_dataset = ConllDataset(original_file)"
   ]
  },
  {
   "cell_type": "markdown",
   "metadata": {},
   "source": [
    "Test writing to new file"
   ]
  },
  {
   "cell_type": "code",
   "execution_count": 56,
   "metadata": {},
   "outputs": [],
   "source": [
    "conll_dataset.write(filepath='./test.conll06')"
   ]
  },
  {
   "cell_type": "markdown",
   "metadata": {},
   "source": [
    "## Access sentence"
   ]
  },
  {
   "cell_type": "code",
   "execution_count": 57,
   "metadata": {},
   "outputs": [],
   "source": [
    "from src.dataset import ConllDataset\n",
    "\n",
    "original_file = './data/wsj_dev.conll06.pred'\n",
    "conll_dataset = ConllDataset(original_file)"
   ]
  },
  {
   "cell_type": "code",
   "execution_count": 58,
   "metadata": {},
   "outputs": [
    {
     "data": {
      "text/html": [
       "<div>\n",
       "<style scoped>\n",
       "    .dataframe tbody tr th:only-of-type {\n",
       "        vertical-align: middle;\n",
       "    }\n",
       "\n",
       "    .dataframe tbody tr th {\n",
       "        vertical-align: top;\n",
       "    }\n",
       "\n",
       "    .dataframe thead th {\n",
       "        text-align: right;\n",
       "    }\n",
       "</style>\n",
       "<table border=\"1\" class=\"dataframe\">\n",
       "  <thead>\n",
       "    <tr style=\"text-align: right;\">\n",
       "      <th></th>\n",
       "      <th>form</th>\n",
       "      <th>lemma</th>\n",
       "      <th>pos</th>\n",
       "      <th>xpos</th>\n",
       "      <th>morph.</th>\n",
       "      <th>head</th>\n",
       "      <th>rel</th>\n",
       "      <th>deps</th>\n",
       "      <th>misc</th>\n",
       "    </tr>\n",
       "    <tr>\n",
       "      <th>id</th>\n",
       "      <th></th>\n",
       "      <th></th>\n",
       "      <th></th>\n",
       "      <th></th>\n",
       "      <th></th>\n",
       "      <th></th>\n",
       "      <th></th>\n",
       "      <th></th>\n",
       "      <th></th>\n",
       "    </tr>\n",
       "  </thead>\n",
       "  <tbody>\n",
       "    <tr>\n",
       "      <th>1</th>\n",
       "      <td>The</td>\n",
       "      <td>the</td>\n",
       "      <td>DT</td>\n",
       "      <td>_</td>\n",
       "      <td>_</td>\n",
       "      <td>2</td>\n",
       "      <td>NMOD</td>\n",
       "      <td>_</td>\n",
       "      <td>_</td>\n",
       "    </tr>\n",
       "    <tr>\n",
       "      <th>2</th>\n",
       "      <td>economy</td>\n",
       "      <td>economy</td>\n",
       "      <td>NN</td>\n",
       "      <td>_</td>\n",
       "      <td>_</td>\n",
       "      <td>4</td>\n",
       "      <td>NMOD</td>\n",
       "      <td>_</td>\n",
       "      <td>_</td>\n",
       "    </tr>\n",
       "    <tr>\n",
       "      <th>3</th>\n",
       "      <td>'s</td>\n",
       "      <td>'s</td>\n",
       "      <td>POS</td>\n",
       "      <td>_</td>\n",
       "      <td>_</td>\n",
       "      <td>2</td>\n",
       "      <td>NMOD</td>\n",
       "      <td>_</td>\n",
       "      <td>_</td>\n",
       "    </tr>\n",
       "    <tr>\n",
       "      <th>4</th>\n",
       "      <td>temperature</td>\n",
       "      <td>temperature</td>\n",
       "      <td>NN</td>\n",
       "      <td>_</td>\n",
       "      <td>_</td>\n",
       "      <td>5</td>\n",
       "      <td>SBJ</td>\n",
       "      <td>_</td>\n",
       "      <td>_</td>\n",
       "    </tr>\n",
       "    <tr>\n",
       "      <th>5</th>\n",
       "      <td>will</td>\n",
       "      <td>will</td>\n",
       "      <td>MD</td>\n",
       "      <td>_</td>\n",
       "      <td>_</td>\n",
       "      <td>0</td>\n",
       "      <td>ROOT</td>\n",
       "      <td>_</td>\n",
       "      <td>_</td>\n",
       "    </tr>\n",
       "    <tr>\n",
       "      <th>6</th>\n",
       "      <td>be</td>\n",
       "      <td>be</td>\n",
       "      <td>VB</td>\n",
       "      <td>_</td>\n",
       "      <td>_</td>\n",
       "      <td>5</td>\n",
       "      <td>VC</td>\n",
       "      <td>_</td>\n",
       "      <td>_</td>\n",
       "    </tr>\n",
       "    <tr>\n",
       "      <th>7</th>\n",
       "      <td>taken</td>\n",
       "      <td>take</td>\n",
       "      <td>VBN</td>\n",
       "      <td>_</td>\n",
       "      <td>_</td>\n",
       "      <td>6</td>\n",
       "      <td>VC</td>\n",
       "      <td>_</td>\n",
       "      <td>_</td>\n",
       "    </tr>\n",
       "    <tr>\n",
       "      <th>8</th>\n",
       "      <td>from</td>\n",
       "      <td>from</td>\n",
       "      <td>IN</td>\n",
       "      <td>_</td>\n",
       "      <td>_</td>\n",
       "      <td>7</td>\n",
       "      <td>ADV</td>\n",
       "      <td>_</td>\n",
       "      <td>_</td>\n",
       "    </tr>\n",
       "    <tr>\n",
       "      <th>9</th>\n",
       "      <td>several</td>\n",
       "      <td>several</td>\n",
       "      <td>JJ</td>\n",
       "      <td>_</td>\n",
       "      <td>_</td>\n",
       "      <td>11</td>\n",
       "      <td>NMOD</td>\n",
       "      <td>_</td>\n",
       "      <td>_</td>\n",
       "    </tr>\n",
       "    <tr>\n",
       "      <th>10</th>\n",
       "      <td>vantage</td>\n",
       "      <td>vantage</td>\n",
       "      <td>NN</td>\n",
       "      <td>_</td>\n",
       "      <td>_</td>\n",
       "      <td>11</td>\n",
       "      <td>NMOD</td>\n",
       "      <td>_</td>\n",
       "      <td>_</td>\n",
       "    </tr>\n",
       "    <tr>\n",
       "      <th>11</th>\n",
       "      <td>points</td>\n",
       "      <td>point</td>\n",
       "      <td>NNS</td>\n",
       "      <td>_</td>\n",
       "      <td>_</td>\n",
       "      <td>8</td>\n",
       "      <td>PMOD</td>\n",
       "      <td>_</td>\n",
       "      <td>_</td>\n",
       "    </tr>\n",
       "    <tr>\n",
       "      <th>12</th>\n",
       "      <td>this</td>\n",
       "      <td>this</td>\n",
       "      <td>DT</td>\n",
       "      <td>_</td>\n",
       "      <td>_</td>\n",
       "      <td>13</td>\n",
       "      <td>NMOD</td>\n",
       "      <td>_</td>\n",
       "      <td>_</td>\n",
       "    </tr>\n",
       "    <tr>\n",
       "      <th>13</th>\n",
       "      <td>week</td>\n",
       "      <td>week</td>\n",
       "      <td>NN</td>\n",
       "      <td>_</td>\n",
       "      <td>_</td>\n",
       "      <td>7</td>\n",
       "      <td>OBJ</td>\n",
       "      <td>_</td>\n",
       "      <td>_</td>\n",
       "    </tr>\n",
       "    <tr>\n",
       "      <th>14</th>\n",
       "      <td>,</td>\n",
       "      <td>,</td>\n",
       "      <td>,</td>\n",
       "      <td>_</td>\n",
       "      <td>_</td>\n",
       "      <td>7</td>\n",
       "      <td>P</td>\n",
       "      <td>_</td>\n",
       "      <td>_</td>\n",
       "    </tr>\n",
       "    <tr>\n",
       "      <th>15</th>\n",
       "      <td>with</td>\n",
       "      <td>with</td>\n",
       "      <td>IN</td>\n",
       "      <td>_</td>\n",
       "      <td>_</td>\n",
       "      <td>7</td>\n",
       "      <td>ADV</td>\n",
       "      <td>_</td>\n",
       "      <td>_</td>\n",
       "    </tr>\n",
       "    <tr>\n",
       "      <th>16</th>\n",
       "      <td>readings</td>\n",
       "      <td>reading</td>\n",
       "      <td>NNS</td>\n",
       "      <td>_</td>\n",
       "      <td>_</td>\n",
       "      <td>15</td>\n",
       "      <td>PMOD</td>\n",
       "      <td>_</td>\n",
       "      <td>_</td>\n",
       "    </tr>\n",
       "    <tr>\n",
       "      <th>17</th>\n",
       "      <td>on</td>\n",
       "      <td>on</td>\n",
       "      <td>IN</td>\n",
       "      <td>_</td>\n",
       "      <td>_</td>\n",
       "      <td>16</td>\n",
       "      <td>NMOD</td>\n",
       "      <td>_</td>\n",
       "      <td>_</td>\n",
       "    </tr>\n",
       "    <tr>\n",
       "      <th>18</th>\n",
       "      <td>trade</td>\n",
       "      <td>trade</td>\n",
       "      <td>NN</td>\n",
       "      <td>_</td>\n",
       "      <td>_</td>\n",
       "      <td>17</td>\n",
       "      <td>PMOD</td>\n",
       "      <td>_</td>\n",
       "      <td>_</td>\n",
       "    </tr>\n",
       "    <tr>\n",
       "      <th>19</th>\n",
       "      <td>,</td>\n",
       "      <td>,</td>\n",
       "      <td>,</td>\n",
       "      <td>_</td>\n",
       "      <td>_</td>\n",
       "      <td>18</td>\n",
       "      <td>P</td>\n",
       "      <td>_</td>\n",
       "      <td>_</td>\n",
       "    </tr>\n",
       "    <tr>\n",
       "      <th>20</th>\n",
       "      <td>output</td>\n",
       "      <td>output</td>\n",
       "      <td>NN</td>\n",
       "      <td>_</td>\n",
       "      <td>_</td>\n",
       "      <td>18</td>\n",
       "      <td>CONJ</td>\n",
       "      <td>_</td>\n",
       "      <td>_</td>\n",
       "    </tr>\n",
       "    <tr>\n",
       "      <th>21</th>\n",
       "      <td>,</td>\n",
       "      <td>,</td>\n",
       "      <td>,</td>\n",
       "      <td>_</td>\n",
       "      <td>_</td>\n",
       "      <td>20</td>\n",
       "      <td>P</td>\n",
       "      <td>_</td>\n",
       "      <td>_</td>\n",
       "    </tr>\n",
       "    <tr>\n",
       "      <th>22</th>\n",
       "      <td>housing</td>\n",
       "      <td>housing</td>\n",
       "      <td>NN</td>\n",
       "      <td>_</td>\n",
       "      <td>_</td>\n",
       "      <td>20</td>\n",
       "      <td>CONJ</td>\n",
       "      <td>_</td>\n",
       "      <td>_</td>\n",
       "    </tr>\n",
       "    <tr>\n",
       "      <th>23</th>\n",
       "      <td>and</td>\n",
       "      <td>and</td>\n",
       "      <td>CC</td>\n",
       "      <td>_</td>\n",
       "      <td>_</td>\n",
       "      <td>22</td>\n",
       "      <td>COORD</td>\n",
       "      <td>_</td>\n",
       "      <td>_</td>\n",
       "    </tr>\n",
       "    <tr>\n",
       "      <th>24</th>\n",
       "      <td>inflation</td>\n",
       "      <td>inflation</td>\n",
       "      <td>NN</td>\n",
       "      <td>_</td>\n",
       "      <td>_</td>\n",
       "      <td>23</td>\n",
       "      <td>CONJ</td>\n",
       "      <td>_</td>\n",
       "      <td>_</td>\n",
       "    </tr>\n",
       "    <tr>\n",
       "      <th>25</th>\n",
       "      <td>.</td>\n",
       "      <td>.</td>\n",
       "      <td>.</td>\n",
       "      <td>_</td>\n",
       "      <td>_</td>\n",
       "      <td>5</td>\n",
       "      <td>P</td>\n",
       "      <td>_</td>\n",
       "      <td>_</td>\n",
       "    </tr>\n",
       "  </tbody>\n",
       "</table>\n",
       "</div>"
      ],
      "text/plain": [
       "           form        lemma  pos xpos morph.  head    rel deps misc\n",
       "id                                                                  \n",
       "1           The          the   DT    _      _     2   NMOD    _    _\n",
       "2       economy      economy   NN    _      _     4   NMOD    _    _\n",
       "3            's           's  POS    _      _     2   NMOD    _    _\n",
       "4   temperature  temperature   NN    _      _     5    SBJ    _    _\n",
       "5          will         will   MD    _      _     0   ROOT    _    _\n",
       "6            be           be   VB    _      _     5     VC    _    _\n",
       "7         taken         take  VBN    _      _     6     VC    _    _\n",
       "8          from         from   IN    _      _     7    ADV    _    _\n",
       "9       several      several   JJ    _      _    11   NMOD    _    _\n",
       "10      vantage      vantage   NN    _      _    11   NMOD    _    _\n",
       "11       points        point  NNS    _      _     8   PMOD    _    _\n",
       "12         this         this   DT    _      _    13   NMOD    _    _\n",
       "13         week         week   NN    _      _     7    OBJ    _    _\n",
       "14            ,            ,    ,    _      _     7      P    _    _\n",
       "15         with         with   IN    _      _     7    ADV    _    _\n",
       "16     readings      reading  NNS    _      _    15   PMOD    _    _\n",
       "17           on           on   IN    _      _    16   NMOD    _    _\n",
       "18        trade        trade   NN    _      _    17   PMOD    _    _\n",
       "19            ,            ,    ,    _      _    18      P    _    _\n",
       "20       output       output   NN    _      _    18   CONJ    _    _\n",
       "21            ,            ,    ,    _      _    20      P    _    _\n",
       "22      housing      housing   NN    _      _    20   CONJ    _    _\n",
       "23          and          and   CC    _      _    22  COORD    _    _\n",
       "24    inflation    inflation   NN    _      _    23   CONJ    _    _\n",
       "25            .            .    .    _      _     5      P    _    _"
      ]
     },
     "execution_count": 58,
     "metadata": {},
     "output_type": "execute_result"
    }
   ],
   "source": [
    "conll_dataset[0].sentence"
   ]
  },
  {
   "cell_type": "code",
   "execution_count": null,
   "metadata": {},
   "outputs": [],
   "source": []
  },
  {
   "cell_type": "markdown",
   "metadata": {},
   "source": [
    "## Evaluation"
   ]
  },
  {
   "cell_type": "code",
   "execution_count": 59,
   "metadata": {},
   "outputs": [],
   "source": [
    "from src.dataset import ConllDataset\n",
    "\n",
    "gold_file = './data/wsj_dev.conll06.gold'\n",
    "prediction_file = './data/wsj_dev.conll06.pred'\n",
    "\n",
    "conll_gold = ConllDataset(gold_file)\n",
    "conll_prediction = ConllDataset(prediction_file)"
   ]
  },
  {
   "cell_type": "code",
   "execution_count": 60,
   "metadata": {},
   "outputs": [],
   "source": [
    "from src.evaluation import uas, las"
   ]
  },
  {
   "cell_type": "code",
   "execution_count": 61,
   "metadata": {},
   "outputs": [
    {
     "data": {
      "text/plain": [
       "0.8974243278811807"
      ]
     },
     "execution_count": 61,
     "metadata": {},
     "output_type": "execute_result"
    }
   ],
   "source": [
    "uas(conll_gold, conll_prediction)"
   ]
  },
  {
   "cell_type": "code",
   "execution_count": 62,
   "metadata": {},
   "outputs": [
    {
     "data": {
      "text/plain": [
       "0.8811430720060162"
      ]
     },
     "execution_count": 62,
     "metadata": {},
     "output_type": "execute_result"
    }
   ],
   "source": [
    "las(conll_gold, conll_prediction)"
   ]
  },
  {
   "attachments": {},
   "cell_type": "markdown",
   "metadata": {},
   "source": [
    "# Feature extraction"
   ]
  },
  {
   "cell_type": "code",
   "execution_count": 64,
   "metadata": {},
   "outputs": [
    {
     "ename": "ModuleNotFoundError",
     "evalue": "No module named 'dataset'",
     "output_type": "error",
     "traceback": [
      "\u001b[0;31m---------------------------------------------------------------------------\u001b[0m",
      "\u001b[0;31mModuleNotFoundError\u001b[0m                       Traceback (most recent call last)",
      "Cell \u001b[0;32mIn [64], line 1\u001b[0m\n\u001b[0;32m----> 1\u001b[0m \u001b[39mfrom\u001b[39;00m \u001b[39msrc\u001b[39;00m\u001b[39m.\u001b[39;00m\u001b[39mfeatures\u001b[39;00m \u001b[39mimport\u001b[39;00m FeatureMapping\n\u001b[1;32m      2\u001b[0m \u001b[39mfrom\u001b[39;00m \u001b[39msrc\u001b[39;00m\u001b[39m.\u001b[39;00m\u001b[39mdataset\u001b[39;00m \u001b[39mimport\u001b[39;00m ConllDataset\n\u001b[1;32m      4\u001b[0m original_file \u001b[39m=\u001b[39m \u001b[39m'\u001b[39m\u001b[39m../data/wsj_dev.conll06.pred\u001b[39m\u001b[39m'\u001b[39m\n",
      "File \u001b[0;32m~/University/statistical dependancy parsing/statistical-dependancy-parsing/src/features.py:7\u001b[0m\n\u001b[1;32m      4\u001b[0m \u001b[39mimport\u001b[39;00m \u001b[39mnumpy\u001b[39;00m \u001b[39mas\u001b[39;00m \u001b[39mnp\u001b[39;00m\n\u001b[1;32m      5\u001b[0m \u001b[39mimport\u001b[39;00m \u001b[39mcopy\u001b[39;00m\n\u001b[0;32m----> 7\u001b[0m \u001b[39mfrom\u001b[39;00m \u001b[39mdataset\u001b[39;00m \u001b[39mimport\u001b[39;00m ConllSentence\n\u001b[1;32m      8\u001b[0m \u001b[39mfrom\u001b[39;00m \u001b[39mdataset\u001b[39;00m \u001b[39mimport\u001b[39;00m ConllDataset\n\u001b[1;32m     11\u001b[0m \u001b[39mclass\u001b[39;00m \u001b[39mFeatureMapping\u001b[39;00m:\n",
      "\u001b[0;31mModuleNotFoundError\u001b[0m: No module named 'dataset'"
     ]
    }
   ],
   "source": [
    "from src.features import FeatureMapping\n",
    "from src.dataset import ConllDataset\n",
    "\n",
    "original_file = '../data/wsj_dev.conll06.pred'\n",
    "conll_dataset = ConllDataset(original_file)\n",
    "feature = FeatureMapping()\n",
    "\n",
    "feature = FeatureMapping()\n",
    "for i in range(100):\n",
    "    sentence = conll_dataset[i]\n",
    "    feature.get(sentence)"
   ]
  },
  {
   "cell_type": "code",
   "execution_count": null,
   "metadata": {},
   "outputs": [],
   "source": [
    "sentence = conll_dataset[23]\n",
    "feature.frozen = True\n",
    "features = feature.get_permutations(sentence)\n",
    "print(features.shape)"
   ]
  },
  {
   "attachments": {},
   "cell_type": "markdown",
   "metadata": {},
   "source": [
    "# Decoder testing"
   ]
  },
  {
   "cell_type": "code",
   "execution_count": 70,
   "metadata": {},
   "outputs": [],
   "source": [
    "import numpy as np\n",
    "\n",
    "scores = np.array([[0.0, 1008.6094838725866, 230.48576409353254, 1699.0197854556168,\n",
    "        2716.370990435925],\n",
    "       [0.0, 0.0, 1331.06827361752, 1096.9250829433727,\n",
    "        1099.0670744708805],\n",
    "       [0.0, 1001.5957598112981, 0.0, 995.7250379193792,\n",
    "        997.8670294468869],\n",
    "       [0.0, 2808.5530220378105, 519.4407800313035, 0.0,\n",
    "        1104.5972099207534],\n",
    "       [0.0, 2117.0759666365566, 519.6606009131369, 2810.410891144461,\n",
    "        0.0]], dtype=object)\n",
    "\n",
    "scores[:, 0] = -np.Inf\n",
    "scores[np.diag_indices_from(scores)] = -np.Inf"
   ]
  },
  {
   "cell_type": "code",
   "execution_count": 71,
   "metadata": {},
   "outputs": [],
   "source": [
    "import src.decoder as decoder\n",
    "\n",
    "cle = decoder.CLE()\n",
    "output = cle.decode(scores)"
   ]
  },
  {
   "cell_type": "code",
   "execution_count": 72,
   "metadata": {},
   "outputs": [
    {
     "data": {
      "text/plain": [
       "[[3, 1], [1, 2], [4, 3], [0, 4]]"
      ]
     },
     "execution_count": 72,
     "metadata": {},
     "output_type": "execute_result"
    }
   ],
   "source": [
    "output"
   ]
  },
  {
   "cell_type": "code",
   "execution_count": null,
   "metadata": {},
   "outputs": [],
   "source": []
  }
 ],
 "metadata": {
  "kernelspec": {
   "display_name": "Python 3.10.7 64-bit",
   "language": "python",
   "name": "python3"
  },
  "language_info": {
   "codemirror_mode": {
    "name": "ipython",
    "version": 3
   },
   "file_extension": ".py",
   "mimetype": "text/x-python",
   "name": "python",
   "nbconvert_exporter": "python",
   "pygments_lexer": "ipython3",
   "version": "3.10.8"
  },
  "orig_nbformat": 4,
  "vscode": {
   "interpreter": {
    "hash": "e7370f93d1d0cde622a1f8e1c04877d8463912d04d973331ad4851f04de6915a"
   }
  }
 },
 "nbformat": 4,
 "nbformat_minor": 2
}
