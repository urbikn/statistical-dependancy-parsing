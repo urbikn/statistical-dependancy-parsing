{
 "cells": [
  {
   "cell_type": "markdown",
   "metadata": {},
   "source": [
    "## Testing ConllDataset"
   ]
  },
  {
   "cell_type": "code",
   "execution_count": 1,
   "metadata": {},
   "outputs": [],
   "source": [
    "from src.dataset import ConllDataset\n",
    "\n",
    "original_file = './data/wsj_dev.conll06.pred'\n",
    "conll_dataset = ConllDataset(original_file)"
   ]
  },
  {
   "cell_type": "markdown",
   "metadata": {},
   "source": [
    "Test writing to new file"
   ]
  },
  {
   "cell_type": "code",
   "execution_count": 2,
   "metadata": {},
   "outputs": [],
   "source": [
    "conll_dataset.write(filepath='./test.conll06')"
   ]
  },
  {
   "cell_type": "markdown",
   "metadata": {},
   "source": [
    "## Access sentence"
   ]
  },
  {
   "cell_type": "code",
   "execution_count": 3,
   "metadata": {},
   "outputs": [],
   "source": [
    "from src.dataset import ConllDataset\n",
    "\n",
    "original_file = './data/wsj_dev.conll06.pred'\n",
    "conll_dataset = ConllDataset(original_file)"
   ]
  },
  {
   "cell_type": "code",
   "execution_count": 4,
   "metadata": {},
   "outputs": [
    {
     "data": {
      "text/html": [
       "<div>\n",
       "<style scoped>\n",
       "    .dataframe tbody tr th:only-of-type {\n",
       "        vertical-align: middle;\n",
       "    }\n",
       "\n",
       "    .dataframe tbody tr th {\n",
       "        vertical-align: top;\n",
       "    }\n",
       "\n",
       "    .dataframe thead th {\n",
       "        text-align: right;\n",
       "    }\n",
       "</style>\n",
       "<table border=\"1\" class=\"dataframe\">\n",
       "  <thead>\n",
       "    <tr style=\"text-align: right;\">\n",
       "      <th></th>\n",
       "      <th>ID</th>\n",
       "      <th>FORM</th>\n",
       "      <th>LEMMA</th>\n",
       "      <th>POS</th>\n",
       "      <th>XPOS</th>\n",
       "      <th>MORPH.</th>\n",
       "      <th>HEAD</th>\n",
       "      <th>REL</th>\n",
       "      <th>DEPS</th>\n",
       "      <th>MISC</th>\n",
       "    </tr>\n",
       "  </thead>\n",
       "  <tbody>\n",
       "    <tr>\n",
       "      <th>0</th>\n",
       "      <td>1</td>\n",
       "      <td>The</td>\n",
       "      <td>the</td>\n",
       "      <td>DT</td>\n",
       "      <td>_</td>\n",
       "      <td>_</td>\n",
       "      <td>2</td>\n",
       "      <td>NMOD</td>\n",
       "      <td>_</td>\n",
       "      <td>_</td>\n",
       "    </tr>\n",
       "    <tr>\n",
       "      <th>1</th>\n",
       "      <td>2</td>\n",
       "      <td>economy</td>\n",
       "      <td>economy</td>\n",
       "      <td>NN</td>\n",
       "      <td>_</td>\n",
       "      <td>_</td>\n",
       "      <td>4</td>\n",
       "      <td>NMOD</td>\n",
       "      <td>_</td>\n",
       "      <td>_</td>\n",
       "    </tr>\n",
       "    <tr>\n",
       "      <th>2</th>\n",
       "      <td>3</td>\n",
       "      <td>'s</td>\n",
       "      <td>'s</td>\n",
       "      <td>POS</td>\n",
       "      <td>_</td>\n",
       "      <td>_</td>\n",
       "      <td>2</td>\n",
       "      <td>NMOD</td>\n",
       "      <td>_</td>\n",
       "      <td>_</td>\n",
       "    </tr>\n",
       "    <tr>\n",
       "      <th>3</th>\n",
       "      <td>4</td>\n",
       "      <td>temperature</td>\n",
       "      <td>temperature</td>\n",
       "      <td>NN</td>\n",
       "      <td>_</td>\n",
       "      <td>_</td>\n",
       "      <td>5</td>\n",
       "      <td>SBJ</td>\n",
       "      <td>_</td>\n",
       "      <td>_</td>\n",
       "    </tr>\n",
       "    <tr>\n",
       "      <th>4</th>\n",
       "      <td>5</td>\n",
       "      <td>will</td>\n",
       "      <td>will</td>\n",
       "      <td>MD</td>\n",
       "      <td>_</td>\n",
       "      <td>_</td>\n",
       "      <td>0</td>\n",
       "      <td>ROOT</td>\n",
       "      <td>_</td>\n",
       "      <td>_</td>\n",
       "    </tr>\n",
       "    <tr>\n",
       "      <th>5</th>\n",
       "      <td>6</td>\n",
       "      <td>be</td>\n",
       "      <td>be</td>\n",
       "      <td>VB</td>\n",
       "      <td>_</td>\n",
       "      <td>_</td>\n",
       "      <td>5</td>\n",
       "      <td>VC</td>\n",
       "      <td>_</td>\n",
       "      <td>_</td>\n",
       "    </tr>\n",
       "    <tr>\n",
       "      <th>6</th>\n",
       "      <td>7</td>\n",
       "      <td>taken</td>\n",
       "      <td>take</td>\n",
       "      <td>VBN</td>\n",
       "      <td>_</td>\n",
       "      <td>_</td>\n",
       "      <td>6</td>\n",
       "      <td>VC</td>\n",
       "      <td>_</td>\n",
       "      <td>_</td>\n",
       "    </tr>\n",
       "    <tr>\n",
       "      <th>7</th>\n",
       "      <td>8</td>\n",
       "      <td>from</td>\n",
       "      <td>from</td>\n",
       "      <td>IN</td>\n",
       "      <td>_</td>\n",
       "      <td>_</td>\n",
       "      <td>7</td>\n",
       "      <td>ADV</td>\n",
       "      <td>_</td>\n",
       "      <td>_</td>\n",
       "    </tr>\n",
       "    <tr>\n",
       "      <th>8</th>\n",
       "      <td>9</td>\n",
       "      <td>several</td>\n",
       "      <td>several</td>\n",
       "      <td>JJ</td>\n",
       "      <td>_</td>\n",
       "      <td>_</td>\n",
       "      <td>11</td>\n",
       "      <td>NMOD</td>\n",
       "      <td>_</td>\n",
       "      <td>_</td>\n",
       "    </tr>\n",
       "    <tr>\n",
       "      <th>9</th>\n",
       "      <td>10</td>\n",
       "      <td>vantage</td>\n",
       "      <td>vantage</td>\n",
       "      <td>NN</td>\n",
       "      <td>_</td>\n",
       "      <td>_</td>\n",
       "      <td>11</td>\n",
       "      <td>NMOD</td>\n",
       "      <td>_</td>\n",
       "      <td>_</td>\n",
       "    </tr>\n",
       "    <tr>\n",
       "      <th>10</th>\n",
       "      <td>11</td>\n",
       "      <td>points</td>\n",
       "      <td>point</td>\n",
       "      <td>NNS</td>\n",
       "      <td>_</td>\n",
       "      <td>_</td>\n",
       "      <td>8</td>\n",
       "      <td>PMOD</td>\n",
       "      <td>_</td>\n",
       "      <td>_</td>\n",
       "    </tr>\n",
       "    <tr>\n",
       "      <th>11</th>\n",
       "      <td>12</td>\n",
       "      <td>this</td>\n",
       "      <td>this</td>\n",
       "      <td>DT</td>\n",
       "      <td>_</td>\n",
       "      <td>_</td>\n",
       "      <td>13</td>\n",
       "      <td>NMOD</td>\n",
       "      <td>_</td>\n",
       "      <td>_</td>\n",
       "    </tr>\n",
       "    <tr>\n",
       "      <th>12</th>\n",
       "      <td>13</td>\n",
       "      <td>week</td>\n",
       "      <td>week</td>\n",
       "      <td>NN</td>\n",
       "      <td>_</td>\n",
       "      <td>_</td>\n",
       "      <td>7</td>\n",
       "      <td>OBJ</td>\n",
       "      <td>_</td>\n",
       "      <td>_</td>\n",
       "    </tr>\n",
       "    <tr>\n",
       "      <th>13</th>\n",
       "      <td>14</td>\n",
       "      <td>,</td>\n",
       "      <td>,</td>\n",
       "      <td>,</td>\n",
       "      <td>_</td>\n",
       "      <td>_</td>\n",
       "      <td>7</td>\n",
       "      <td>P</td>\n",
       "      <td>_</td>\n",
       "      <td>_</td>\n",
       "    </tr>\n",
       "    <tr>\n",
       "      <th>14</th>\n",
       "      <td>15</td>\n",
       "      <td>with</td>\n",
       "      <td>with</td>\n",
       "      <td>IN</td>\n",
       "      <td>_</td>\n",
       "      <td>_</td>\n",
       "      <td>7</td>\n",
       "      <td>ADV</td>\n",
       "      <td>_</td>\n",
       "      <td>_</td>\n",
       "    </tr>\n",
       "    <tr>\n",
       "      <th>15</th>\n",
       "      <td>16</td>\n",
       "      <td>readings</td>\n",
       "      <td>reading</td>\n",
       "      <td>NNS</td>\n",
       "      <td>_</td>\n",
       "      <td>_</td>\n",
       "      <td>15</td>\n",
       "      <td>PMOD</td>\n",
       "      <td>_</td>\n",
       "      <td>_</td>\n",
       "    </tr>\n",
       "    <tr>\n",
       "      <th>16</th>\n",
       "      <td>17</td>\n",
       "      <td>on</td>\n",
       "      <td>on</td>\n",
       "      <td>IN</td>\n",
       "      <td>_</td>\n",
       "      <td>_</td>\n",
       "      <td>16</td>\n",
       "      <td>NMOD</td>\n",
       "      <td>_</td>\n",
       "      <td>_</td>\n",
       "    </tr>\n",
       "    <tr>\n",
       "      <th>17</th>\n",
       "      <td>18</td>\n",
       "      <td>trade</td>\n",
       "      <td>trade</td>\n",
       "      <td>NN</td>\n",
       "      <td>_</td>\n",
       "      <td>_</td>\n",
       "      <td>17</td>\n",
       "      <td>PMOD</td>\n",
       "      <td>_</td>\n",
       "      <td>_</td>\n",
       "    </tr>\n",
       "    <tr>\n",
       "      <th>18</th>\n",
       "      <td>19</td>\n",
       "      <td>,</td>\n",
       "      <td>,</td>\n",
       "      <td>,</td>\n",
       "      <td>_</td>\n",
       "      <td>_</td>\n",
       "      <td>18</td>\n",
       "      <td>P</td>\n",
       "      <td>_</td>\n",
       "      <td>_</td>\n",
       "    </tr>\n",
       "    <tr>\n",
       "      <th>19</th>\n",
       "      <td>20</td>\n",
       "      <td>output</td>\n",
       "      <td>output</td>\n",
       "      <td>NN</td>\n",
       "      <td>_</td>\n",
       "      <td>_</td>\n",
       "      <td>18</td>\n",
       "      <td>CONJ</td>\n",
       "      <td>_</td>\n",
       "      <td>_</td>\n",
       "    </tr>\n",
       "    <tr>\n",
       "      <th>20</th>\n",
       "      <td>21</td>\n",
       "      <td>,</td>\n",
       "      <td>,</td>\n",
       "      <td>,</td>\n",
       "      <td>_</td>\n",
       "      <td>_</td>\n",
       "      <td>20</td>\n",
       "      <td>P</td>\n",
       "      <td>_</td>\n",
       "      <td>_</td>\n",
       "    </tr>\n",
       "    <tr>\n",
       "      <th>21</th>\n",
       "      <td>22</td>\n",
       "      <td>housing</td>\n",
       "      <td>housing</td>\n",
       "      <td>NN</td>\n",
       "      <td>_</td>\n",
       "      <td>_</td>\n",
       "      <td>20</td>\n",
       "      <td>CONJ</td>\n",
       "      <td>_</td>\n",
       "      <td>_</td>\n",
       "    </tr>\n",
       "    <tr>\n",
       "      <th>22</th>\n",
       "      <td>23</td>\n",
       "      <td>and</td>\n",
       "      <td>and</td>\n",
       "      <td>CC</td>\n",
       "      <td>_</td>\n",
       "      <td>_</td>\n",
       "      <td>22</td>\n",
       "      <td>COORD</td>\n",
       "      <td>_</td>\n",
       "      <td>_</td>\n",
       "    </tr>\n",
       "    <tr>\n",
       "      <th>23</th>\n",
       "      <td>24</td>\n",
       "      <td>inflation</td>\n",
       "      <td>inflation</td>\n",
       "      <td>NN</td>\n",
       "      <td>_</td>\n",
       "      <td>_</td>\n",
       "      <td>23</td>\n",
       "      <td>CONJ</td>\n",
       "      <td>_</td>\n",
       "      <td>_</td>\n",
       "    </tr>\n",
       "    <tr>\n",
       "      <th>24</th>\n",
       "      <td>25</td>\n",
       "      <td>.</td>\n",
       "      <td>.</td>\n",
       "      <td>.</td>\n",
       "      <td>_</td>\n",
       "      <td>_</td>\n",
       "      <td>5</td>\n",
       "      <td>P</td>\n",
       "      <td>_</td>\n",
       "      <td>_</td>\n",
       "    </tr>\n",
       "  </tbody>\n",
       "</table>\n",
       "</div>"
      ],
      "text/plain": [
       "    ID         FORM        LEMMA  POS XPOS MORPH.  HEAD    REL DEPS MISC\n",
       "0    1          The          the   DT    _      _     2   NMOD    _    _\n",
       "1    2      economy      economy   NN    _      _     4   NMOD    _    _\n",
       "2    3           's           's  POS    _      _     2   NMOD    _    _\n",
       "3    4  temperature  temperature   NN    _      _     5    SBJ    _    _\n",
       "4    5         will         will   MD    _      _     0   ROOT    _    _\n",
       "5    6           be           be   VB    _      _     5     VC    _    _\n",
       "6    7        taken         take  VBN    _      _     6     VC    _    _\n",
       "7    8         from         from   IN    _      _     7    ADV    _    _\n",
       "8    9      several      several   JJ    _      _    11   NMOD    _    _\n",
       "9   10      vantage      vantage   NN    _      _    11   NMOD    _    _\n",
       "10  11       points        point  NNS    _      _     8   PMOD    _    _\n",
       "11  12         this         this   DT    _      _    13   NMOD    _    _\n",
       "12  13         week         week   NN    _      _     7    OBJ    _    _\n",
       "13  14            ,            ,    ,    _      _     7      P    _    _\n",
       "14  15         with         with   IN    _      _     7    ADV    _    _\n",
       "15  16     readings      reading  NNS    _      _    15   PMOD    _    _\n",
       "16  17           on           on   IN    _      _    16   NMOD    _    _\n",
       "17  18        trade        trade   NN    _      _    17   PMOD    _    _\n",
       "18  19            ,            ,    ,    _      _    18      P    _    _\n",
       "19  20       output       output   NN    _      _    18   CONJ    _    _\n",
       "20  21            ,            ,    ,    _      _    20      P    _    _\n",
       "21  22      housing      housing   NN    _      _    20   CONJ    _    _\n",
       "22  23          and          and   CC    _      _    22  COORD    _    _\n",
       "23  24    inflation    inflation   NN    _      _    23   CONJ    _    _\n",
       "24  25            .            .    .    _      _     5      P    _    _"
      ]
     },
     "execution_count": 4,
     "metadata": {},
     "output_type": "execute_result"
    }
   ],
   "source": [
    "conll_dataset[0].sentence"
   ]
  },
  {
   "cell_type": "markdown",
   "metadata": {},
   "source": [
    "## Evaluation"
   ]
  },
  {
   "cell_type": "code",
   "execution_count": null,
   "metadata": {},
   "outputs": [],
   "source": [
    "from src.dataset import ConllDataset\n",
    "\n",
    "gold_file = './data/wsj_dev.conll06.gold'\n",
    "prediction_file = './data/wsj_dev.conll06.pred'\n",
    "\n",
    "conll_gold = ConllDataset(gold_file)\n",
    "conll_prediction = ConllDataset(prediction_file)"
   ]
  },
  {
   "cell_type": "code",
   "execution_count": null,
   "metadata": {},
   "outputs": [],
   "source": [
    "from src.evaluation import uas, las"
   ]
  },
  {
   "cell_type": "code",
   "execution_count": null,
   "metadata": {},
   "outputs": [
    {
     "data": {
      "text/plain": [
       "0.8974243278811807"
      ]
     },
     "metadata": {},
     "output_type": "display_data"
    }
   ],
   "source": [
    "uas(conll_gold, conll_prediction)"
   ]
  },
  {
   "cell_type": "code",
   "execution_count": null,
   "metadata": {},
   "outputs": [
    {
     "data": {
      "text/plain": [
       "0.8811430720060162"
      ]
     },
     "metadata": {},
     "output_type": "display_data"
    }
   ],
   "source": [
    "las(conll_gold, conll_prediction)"
   ]
  },
  {
   "cell_type": "code",
   "execution_count": 18,
   "metadata": {},
   "outputs": [],
   "source": [
    "import numpy as np"
   ]
  },
  {
   "cell_type": "code",
   "execution_count": 19,
   "metadata": {},
   "outputs": [
    {
     "data": {
      "text/plain": [
       "array([[-inf,  10.,  15.,   5.],\n",
       "       [-inf, -inf,  30.,  10.],\n",
       "       [-inf,  20., -inf,   5.],\n",
       "       [-inf,   5.,  10., -inf]])"
      ]
     },
     "execution_count": 19,
     "metadata": {},
     "output_type": "execute_result"
    }
   ],
   "source": [
    "scores = np.array([\n",
    "    [-np.Inf, 10, 15, 5],\n",
    "    [-np.Inf, -np.Inf, 30, 10],\n",
    "    [-np.Inf, 20, -np.Inf, 5],\n",
    "    [-np.Inf, 5, 10, -np.Inf]\n",
    "])\n",
    "scores"
   ]
  },
  {
   "cell_type": "code",
   "execution_count": 20,
   "metadata": {},
   "outputs": [
    {
     "data": {
      "text/plain": [
       "array([[-inf,  10.,   5.,  15.],\n",
       "       [-inf, -inf,  20.,  15.],\n",
       "       [-inf,  25., -inf,  25.],\n",
       "       [-inf,  30.,  10., -inf]])"
      ]
     },
     "execution_count": 20,
     "metadata": {},
     "output_type": "execute_result"
    }
   ],
   "source": [
    "scores = np.array([\n",
    "    [-np.Inf, 10, 5, 15],\n",
    "    [-np.Inf, -np.Inf, 20, 15],\n",
    "    [-np.Inf, 25, -np.Inf, 25],\n",
    "    [-np.Inf, 30, 10, -np.Inf]\n",
    "])\n",
    "scores"
   ]
  },
  {
   "cell_type": "code",
   "execution_count": 21,
   "metadata": {},
   "outputs": [
    {
     "data": {
      "text/plain": [
       "{0: {1: 10.0, 2: 5.0, 3: 15.0},\n",
       " 1: {2: 20.0, 3: 15.0},\n",
       " 2: {1: 25.0, 3: 25.0},\n",
       " 3: {1: 30.0, 2: 10.0}}"
      ]
     },
     "execution_count": 21,
     "metadata": {},
     "output_type": "execute_result"
    }
   ],
   "source": [
    "# Transform into dictionaries, where V= {node: {arc: cost}}\n",
    "graph = {}\n",
    "for i_row, row in enumerate(scores):\n",
    "    arcs = {}\n",
    "    for i_col, column_score in enumerate(row):\n",
    "        if column_score > 0:\n",
    "            arcs[i_col] = column_score\n",
    "    \n",
    "    # i_row here means the node\n",
    "    graph[i_row] = arcs \n",
    "\n",
    "graph"
   ]
  },
  {
   "cell_type": "code",
   "execution_count": 22,
   "metadata": {},
   "outputs": [
    {
     "name": "stdout",
     "output_type": "stream",
     "text": [
      "Indexes: [[3, 1], [1, 2], [2, 3]]\n",
      "Values: [30.0, 20.0, 25.0]\n"
     ]
    }
   ],
   "source": [
    "# Find max\n",
    "max_column_index = np.argmax(scores, axis=0)\n",
    "# Since max_column_index returns the index of the highest value in the column,\n",
    "# we actually get the index of the row\n",
    "max_index_pairs = [[r, c] for c, r in enumerate(max_column_index)]\n",
    "index_pairs = max_index_pairs[1:]\n",
    "print(\"Indexes:\", index_pairs)\n",
    "print(\"Values:\", [scores[l[0], l[1]] for l in index_pairs])"
   ]
  },
  {
   "cell_type": "code",
   "execution_count": 23,
   "metadata": {},
   "outputs": [
    {
     "data": {
      "text/plain": [
       "{1: [3, 30.0], 2: [1, 20.0], 3: [2, 25.0]}"
      ]
     },
     "execution_count": 23,
     "metadata": {},
     "output_type": "execute_result"
    }
   ],
   "source": [
    "# Find maximal per row\n",
    "max_graph = {}\n",
    "\n",
    "# For excluding the root node, we start from 1\n",
    "for i_node in range(1, len(graph)):\n",
    "    for g_node, g_arcs in graph.items():\n",
    "        if i_node in max_graph: \n",
    "            if max_graph[i_node][1] < g_arcs.get(i_node, 0):\n",
    "                max_graph[i_node] = [g_node, g_arcs[i_node]]\n",
    "        else:\n",
    "            max_graph[i_node] = [g_node, g_arcs.get(i_node, 0)]\n",
    "\n",
    "max_graph"
   ]
  },
  {
   "cell_type": "code",
   "execution_count": 24,
   "metadata": {},
   "outputs": [
    {
     "data": {
      "text/plain": [
       "{1: [3, 30.0], 3: [2, 25.0], 2: [1, 20.0]}"
      ]
     },
     "execution_count": 24,
     "metadata": {},
     "output_type": "execute_result"
    }
   ],
   "source": [
    "# Find cycle\n",
    "def find_cycle(graph):\n",
    "    for node in graph.keys():\n",
    "        visited = []\n",
    "        to_visit = [node]\n",
    "        while len(to_visit) > 0:\n",
    "            visiting = to_visit.pop()\n",
    "            if visiting in visited:\n",
    "                cycle = {v:graph[v] for v in visited}\n",
    "                return cycle\n",
    "            else:\n",
    "                visited.append(visiting)\n",
    "                if node in graph:\n",
    "                    # Only get the node ([0]), not value ([1])\n",
    "                    to_visit.append(graph[visiting][0])\n",
    "\n",
    "# We don't need scoring values here\n",
    "cycle = find_cycle(max_graph)\n",
    "cycle"
   ]
  },
  {
   "cell_type": "code",
   "execution_count": 25,
   "metadata": {},
   "outputs": [
    {
     "data": {
      "text/plain": [
       "{0: {1: 10.0, 2: 5.0, 3: 15.0}, 1: {2: 20.0}, 2: {3: 25.0}, 3: {1: 30.0}}"
      ]
     },
     "execution_count": 25,
     "metadata": {},
     "output_type": "execute_result"
    }
   ],
   "source": [
    "new_graph = dict.copy(graph)\n",
    "for node, end in cycle.items():\n",
    "    new_graph[node].pop(end[0])\n",
    "    if len(new_graph[node]) == 0:\n",
    "        new_graph.pop(node)\n",
    "\n",
    "new_graph"
   ]
  },
  {
   "cell_type": "code",
   "execution_count": 26,
   "metadata": {},
   "outputs": [],
   "source": [
    "# Find cycle (to be added)\n",
    "cycle = index_pairs"
   ]
  },
  {
   "cell_type": "code",
   "execution_count": 27,
   "metadata": {},
   "outputs": [
    {
     "data": {
      "text/plain": [
       "array([[-inf,  10.,   5.,  15.],\n",
       "       [-inf, -inf,  20.,  15.],\n",
       "       [-inf,  25., -inf,  25.],\n",
       "       [-inf,  30.,  10., -inf]])"
      ]
     },
     "execution_count": 27,
     "metadata": {},
     "output_type": "execute_result"
    }
   ],
   "source": [
    "scores = np.array([\n",
    "    [-np.Inf, 10, 5, 15],\n",
    "    [-np.Inf, -np.Inf, 20, 15],\n",
    "    [-np.Inf, 25, -np.Inf, 25],\n",
    "    [-np.Inf, 30, 10, -np.Inf]\n",
    "])\n",
    "scores"
   ]
  },
  {
   "cell_type": "code",
   "execution_count": 11,
   "metadata": {},
   "outputs": [
    {
     "data": {
      "text/plain": [
       "array([[-inf,  10.,  15.,   5.],\n",
       "       [-inf, -inf,  30.,  10.],\n",
       "       [-inf,  20., -inf,   5.],\n",
       "       [-inf,   5.,  10., -inf]])"
      ]
     },
     "execution_count": 11,
     "metadata": {},
     "output_type": "execute_result"
    }
   ],
   "source": [
    "# Two cycle\n",
    "scores = np.array([\n",
    "    [-np.Inf, 10, 15, 5],\n",
    "    [-np.Inf, -np.Inf, 30, 10],\n",
    "    [-np.Inf, 20, -np.Inf, 5],\n",
    "    [-np.Inf, 5, 10, -np.Inf]\n",
    "])\n",
    "scores"
   ]
  },
  {
   "cell_type": "code",
   "execution_count": 12,
   "metadata": {},
   "outputs": [
    {
     "data": {
      "text/plain": [
       "array([[-inf,  10.,   4.,   9.],\n",
       "       [-inf, -inf,  10.,   3.],\n",
       "       [-inf,  12., -inf,   7.],\n",
       "       [-inf,   2.,   6., -inf]])"
      ]
     },
     "execution_count": 12,
     "metadata": {},
     "output_type": "execute_result"
    }
   ],
   "source": [
    "# Test\n",
    "scores = np.array([\n",
    "    [-np.Inf, 10, 4, 9],\n",
    "    [-np.Inf, -np.Inf, 10, 3],\n",
    "    [-np.Inf, 12, -np.Inf, 7],\n",
    "    [-np.Inf, 2, 6, -np.Inf]\n",
    "])\n",
    "scores"
   ]
  },
  {
   "cell_type": "code",
   "execution_count": 29,
   "metadata": {},
   "outputs": [
    {
     "data": {
      "text/plain": [
       "array([[-inf,   9.,  10.,   9.],\n",
       "       [-inf, -inf,  20.,   3.],\n",
       "       [-inf,  30., -inf,  30.],\n",
       "       [-inf,  11.,   0., -inf]])"
      ]
     },
     "execution_count": 29,
     "metadata": {},
     "output_type": "execute_result"
    }
   ],
   "source": [
    "scores = np.array([\n",
    "    [-np.Inf,9,10,9],\n",
    "    [-np.Inf,-np.Inf,20,3],\n",
    "    [-np.Inf,30,-np.Inf,30],\n",
    "    [-np.Inf,11,0,-np.Inf]\n",
    "])\n",
    "scores"
   ]
  },
  {
   "cell_type": "code",
   "execution_count": 69,
   "metadata": {},
   "outputs": [],
   "source": [
    "# Find cycle\n",
    "def find_cycle(graph):\n",
    "    for node in graph.keys():\n",
    "        visited = []\n",
    "        to_visit = [node]\n",
    "        while len(to_visit) > 0:\n",
    "            visiting = to_visit.pop()\n",
    "            if visiting in visited:\n",
    "                cycle = np.array([[v, graph[v]] for v in visited])\n",
    "                return cycle\n",
    "            else:\n",
    "                visited.append(visiting)\n",
    "                if visiting in graph:\n",
    "                    # Only get the node ([0]), not value ([1])\n",
    "                    to_visit.append(graph[visiting])\n",
    "    \n",
    "    return None\n",
    "\n",
    "def contract(scores, cycle):\n",
    "    new_matrix = np.copy(scores)\n",
    "\n",
    "    # Add to the ones that aren't in the max (so only [0, :])\n",
    "    all_nodes = set(range(new_matrix.shape[0]))\n",
    "    removed_nodes = set(cycle.flatten())\n",
    "    nodes = all_nodes.difference(removed_nodes)\n",
    "\n",
    "\n",
    "    # Remove internal arcs\n",
    "    removed_nodes = np.array(list(removed_nodes))\n",
    "    new_matrix[np.ix_(removed_nodes, removed_nodes)] = -np.Inf\n",
    "\n",
    "    # Update outgoing arcs\n",
    "    cycle_as_dict = {v[0]:v[1] for v in cycle}\n",
    "    for node in nodes:\n",
    "        for col in range(1, new_matrix.shape[1]):\n",
    "            if col in cycle_as_dict and new_matrix[node, col] >= 0:\n",
    "                new_matrix[node, col] += scores[col, cycle_as_dict[col]]\n",
    "\n",
    "\n",
    "\n",
    "    # Remove unwanted arcs.\n",
    "    # The algorithm works as follows:\n",
    "    # 1) get the connections for a node (n3), in matrix as matrix[n3]\n",
    "    # 2) find max values of connections in n3 that were in the cycle (or created as a new node), max matrix[n3][n2,3]\n",
    "    # 3) Save only the max value and turn all other in matrix[n3][n2,n3] as -np.Inf\n",
    "    # 4) do the same for all other\n",
    "\n",
    "    # First for row\n",
    "    for r in range(new_matrix.shape[0]):\n",
    "        remove_nodes = list(removed_nodes)\n",
    "        max_outgoing = np.argmax(new_matrix[r, remove_nodes], axis=0)\n",
    "        max_index = remove_nodes[max_outgoing]\n",
    "\n",
    "        remove_nodes.pop(remove_nodes.index(max_index))\n",
    "\n",
    "        new_matrix[r, remove_nodes] = -np.Inf\n",
    "\n",
    "    # And now remove columns\n",
    "    for c in range(new_matrix.shape[0]):\n",
    "        remove_nodes = list(removed_nodes)\n",
    "        max_outgoing = np.argmax(new_matrix[remove_nodes, c], axis=0)\n",
    "        max_index = remove_nodes[max_outgoing]\n",
    "\n",
    "        remove_nodes.pop(remove_nodes.index(max_index))\n",
    "        new_matrix[remove_nodes, c] = -np.Inf\n",
    "\n",
    "    return new_matrix\n",
    "\n",
    "\n",
    "def CLE(scores):\n",
    "    max_column_index = np.argmax(scores, axis=1)\n",
    "    # Since max_column_index returns the index of the highest value in the column,\n",
    "    # we actually get the index of the row\n",
    "    max_graph = {c:r for c, r in enumerate(max_column_index) if c > 0 and r > 0}\n",
    "\n",
    "    cycle = find_cycle(max_graph)\n",
    "    if cycle is None:\n",
    "        # Add root score\n",
    "        max_graph[np.argmax(scores[0])] = 0\n",
    "        print(max_graph)\n",
    "        return max_graph\n",
    "    else:\n",
    "        new_graph = contract(scores, cycle)\n",
    "        y = CLE(new_graph)\n",
    "        return y, cycle\n",
    "\n"
   ]
  },
  {
   "cell_type": "code",
   "execution_count": 70,
   "metadata": {},
   "outputs": [
    {
     "data": {
      "text/plain": [
       "array([[-inf,   9.,  10.,   9.],\n",
       "       [-inf, -inf,  20.,   3.],\n",
       "       [-inf,  30., -inf,  30.],\n",
       "       [-inf,  11.,   0., -inf]])"
      ]
     },
     "execution_count": 70,
     "metadata": {},
     "output_type": "execute_result"
    }
   ],
   "source": [
    "scores"
   ]
  },
  {
   "cell_type": "code",
   "execution_count": 72,
   "metadata": {},
   "outputs": [
    {
     "name": "stdout",
     "output_type": "stream",
     "text": [
      "{2: 0, 3: 1}\n"
     ]
    }
   ],
   "source": [
    "y, cycle = CLE(scores)"
   ]
  },
  {
   "cell_type": "code",
   "execution_count": 73,
   "metadata": {},
   "outputs": [
    {
     "data": {
      "text/plain": [
       "{2: 0, 3: 1}"
      ]
     },
     "execution_count": 73,
     "metadata": {},
     "output_type": "execute_result"
    }
   ],
   "source": [
    "y"
   ]
  },
  {
   "cell_type": "code",
   "execution_count": 65,
   "metadata": {},
   "outputs": [
    {
     "data": {
      "text/plain": [
       "({2: 0, 3: 1},\n",
       " array([[1, 2],\n",
       "        [2, 1]]))"
      ]
     },
     "execution_count": 65,
     "metadata": {},
     "output_type": "execute_result"
    }
   ],
   "source": [
    "results"
   ]
  },
  {
   "cell_type": "code",
   "execution_count": 14,
   "metadata": {},
   "outputs": [
    {
     "data": {
      "text/plain": [
       "array([[-inf,  10.,  15.,   5.],\n",
       "       [-inf, -inf,  30.,  10.],\n",
       "       [-inf,  20., -inf,   5.],\n",
       "       [-inf,   5.,  10., -inf]])"
      ]
     },
     "execution_count": 14,
     "metadata": {},
     "output_type": "execute_result"
    }
   ],
   "source": [
    "# Two cycle\n",
    "scores = np.array([\n",
    "    [-np.Inf, 10, 15, 5],\n",
    "    [-np.Inf, -np.Inf, 30, 10],\n",
    "    [-np.Inf, 20, -np.Inf, 5],\n",
    "    [-np.Inf, 5, 10, -np.Inf]\n",
    "])\n",
    "scores"
   ]
  },
  {
   "cell_type": "code",
   "execution_count": 17,
   "metadata": {},
   "outputs": [
    {
     "name": "stdout",
     "output_type": "stream",
     "text": [
      "[[-inf  10.  15.   5.]\n",
      " [-inf -inf  30.  10.]\n",
      " [-inf  20. -inf   5.]\n",
      " [-inf   5.  10. -inf]]\n",
      "[[-inf  10.  15.   5.]\n",
      " [-inf -inf  30.  10.]\n",
      " [-inf  20. -inf   5.]\n",
      " [-inf   5.  10. -inf]]\n"
     ]
    },
    {
     "data": {
      "text/plain": [
       "{2: 0, 1: 3}"
      ]
     },
     "execution_count": 17,
     "metadata": {},
     "output_type": "execute_result"
    }
   ],
   "source": [
    "CLE(scores)"
   ]
  },
  {
   "cell_type": "code",
   "execution_count": 16,
   "metadata": {},
   "outputs": [
    {
     "data": {
      "text/plain": [
       "{1: 2, 2: 1, 3: 1}"
      ]
     },
     "execution_count": 16,
     "metadata": {},
     "output_type": "execute_result"
    }
   ],
   "source": [
    "\n",
    "max_column_index = np.argmax(scores, axis=0)\n",
    "# Since max_column_index returns the index of the highest value in the column,\n",
    "# we actually get the index of the row\n",
    "max_graph = {c:r for c, r in enumerate(max_column_index) if c > 0 and r > 0}\n",
    "max_graph\n"
   ]
  },
  {
   "cell_type": "code",
   "execution_count": 243,
   "metadata": {},
   "outputs": [
    {
     "name": "stdout",
     "output_type": "stream",
     "text": [
      "[[2 1]\n",
      " [1 2]]\n",
      "[[-inf  40. -inf   5.]\n",
      " [-inf -inf -inf  10.]\n",
      " [-inf -inf -inf -inf]\n",
      " [-inf  35. -inf -inf]]\n",
      "{3: 1}\n",
      "None\n"
     ]
    }
   ],
   "source": [
    "cycle = find_cycle(max_graph)\n",
    "print(cycle)\n",
    "if cycle is None:\n",
    "    pass\n",
    "else:\n",
    "    new_graph = contract(scores, cycle)\n",
    "    print(new_graph)\n",
    "\n",
    "    max_column_index = np.argmax(new_graph, axis=0)\n",
    "    # Since max_column_index returns the index of the highest value in the column,\n",
    "    # we actually get the index of the row\n",
    "    max_graph = {c:r for c, r in enumerate(max_column_index) if c > 0 and r > 0}\n",
    "\n",
    "    print(max_graph)\n",
    "    cycle = find_cycle(max_graph)\n",
    "    print(cycle)"
   ]
  },
  {
   "cell_type": "code",
   "execution_count": 219,
   "metadata": {},
   "outputs": [
    {
     "data": {
      "text/plain": [
       "array([[-inf,  10.,   5.,  15.],\n",
       "       [-inf, -inf,  20.,  15.],\n",
       "       [-inf,  25., -inf,  25.],\n",
       "       [-inf,  30.,  10., -inf]])"
      ]
     },
     "execution_count": 219,
     "metadata": {},
     "output_type": "execute_result"
    }
   ],
   "source": [
    "scores"
   ]
  },
  {
   "cell_type": "code",
   "execution_count": 237,
   "metadata": {},
   "outputs": [],
   "source": [
    "def resolve_cycle(graph, cycle):\n",
    "    cycle_dict = {v[1]:v[0] for v in cycle}\n",
    "    pass"
   ]
  },
  {
   "cell_type": "code",
   "execution_count": 262,
   "metadata": {},
   "outputs": [
    {
     "name": "stdout",
     "output_type": "stream",
     "text": [
      "1\n",
      "[[2, 1], [1, 3], [0, 1]]\n"
     ]
    }
   ],
   "source": [
    "y = [[1, 3], [0, 1]]\n",
    "cycle = [[2, 1], [1, 2]]\n",
    "\n",
    "cycle_dict = {v[1]:v[0] for v in cycle}\n",
    "\n",
    "for node in y:\n",
    "    head = node[0]\n",
    "    print(head)\n",
    "    if head in cycle_dict:\n",
    "        arc = [head, cycle_dict.pop(head)]\n",
    "\n",
    "        cycle = [val for val in cycle + y if not val==arc]\n",
    "        print(cycle)\n",
    "        break\n",
    "        #scores[arc, 3] = 0"
   ]
  },
  {
   "cell_type": "code",
   "execution_count": 256,
   "metadata": {},
   "outputs": [
    {
     "data": {
      "text/plain": [
       "[[2, 1], [1, 2], [0, 3], [0, 1], [0, 3], [0, 1]]"
      ]
     },
     "execution_count": 256,
     "metadata": {},
     "output_type": "execute_result"
    }
   ],
   "source": [
    "cycle + y"
   ]
  },
  {
   "cell_type": "code",
   "execution_count": null,
   "metadata": {},
   "outputs": [],
   "source": []
  }
 ],
 "metadata": {
  "kernelspec": {
   "display_name": "Python 3.10.7 64-bit",
   "language": "python",
   "name": "python3"
  },
  "language_info": {
   "codemirror_mode": {
    "name": "ipython",
    "version": 3
   },
   "file_extension": ".py",
   "mimetype": "text/x-python",
   "name": "python",
   "nbconvert_exporter": "python",
   "pygments_lexer": "ipython3",
   "version": "3.10.8"
  },
  "orig_nbformat": 4,
  "vscode": {
   "interpreter": {
    "hash": "e7370f93d1d0cde622a1f8e1c04877d8463912d04d973331ad4851f04de6915a"
   }
  }
 },
 "nbformat": 4,
 "nbformat_minor": 2
}
