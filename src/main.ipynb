{
 "cells": [
  {
   "cell_type": "code",
   "execution_count": 1,
   "metadata": {},
   "outputs": [],
   "source": [
    "from dataset import ConllDataset\n",
    "\n",
    "original_file = '../data/wsj_dev.conll06.pred'\n",
    "conll_dataset = ConllDataset(original_file)"
   ]
  },
  {
   "cell_type": "code",
   "execution_count": 2,
   "metadata": {},
   "outputs": [],
   "source": [
    "from features import FeatureMapping\n",
    "\n",
    "feature = FeatureMapping()\n",
    "for i in range(100):\n",
    "    sentence = conll_dataset[i]\n",
    "    feature.get(sentence)\n",
    "\n",
    "feature.frozen = True"
   ]
  },
  {
   "cell_type": "code",
   "execution_count": 32,
   "metadata": {},
   "outputs": [],
   "source": [
    "def get_training_data(dataset, size=100):\n",
    "    feature = FeatureMapping()\n",
    "    y = []\n",
    "\n",
    "    for i in range(size):\n",
    "        sentence = conll_dataset[i]\n",
    "        # Train extractor\n",
    "        # TODO: create function that trains on training data instead of this\n",
    "        true_feature = feature.get(sentence)\n",
    "        arcs = conll_dataset[i].get_arcs()\n",
    "\n",
    "        y.append([true_feature, arcs])\n",
    "\n",
    "    feature.frozen = True\n",
    "    for i, (f, arcs) in enumerate(y):\n",
    "        sentence = conll_dataset[i]\n",
    "        x = feature.get_permutations(sentence)\n",
    "\n",
    "        yield x, f, arcs"
   ]
  },
  {
   "cell_type": "code",
   "execution_count": 3,
   "metadata": {},
   "outputs": [],
   "source": [
    "from model import Perceptron\n",
    "\n",
    "model = Perceptron(dim=feature.feature_count())"
   ]
  },
  {
   "cell_type": "code",
   "execution_count": 27,
   "metadata": {},
   "outputs": [
    {
     "ename": "NameError",
     "evalue": "name 'get_training_data' is not defined",
     "output_type": "error",
     "traceback": [
      "\u001b[0;31m---------------------------------------------------------------------------\u001b[0m",
      "\u001b[0;31mNameError\u001b[0m                                 Traceback (most recent call last)",
      "Cell \u001b[0;32mIn [27], line 7\u001b[0m\n\u001b[1;32m      3\u001b[0m \u001b[39mimport\u001b[39;00m \u001b[39mcopy\u001b[39;00m\n\u001b[1;32m      5\u001b[0m cle \u001b[39m=\u001b[39m decoder\u001b[39m.\u001b[39mCLE()\n\u001b[0;32m----> 7\u001b[0m instances \u001b[39m=\u001b[39m \u001b[39mlist\u001b[39m(get_training_data(conll_dataset, \u001b[39m100\u001b[39m))\n\u001b[1;32m      9\u001b[0m epochs \u001b[39m=\u001b[39m \u001b[39m1\u001b[39m\n\u001b[1;32m     10\u001b[0m \u001b[39mfor\u001b[39;00m i \u001b[39min\u001b[39;00m \u001b[39mrange\u001b[39m(epochs):\n",
      "\u001b[0;31mNameError\u001b[0m: name 'get_training_data' is not defined"
     ]
    }
   ],
   "source": [
    "import decoder as decoder\n",
    "import numpy as np\n",
    "import copy\n",
    "\n",
    "cle = decoder.CLE()\n",
    "\n",
    "instances = list(get_training_data(conll_dataset, 100))\n",
    "\n",
    "epochs = 1\n",
    "for i in range(epochs):\n",
    "    for (x, true_features, y) in instances:\n",
    "        scores = model.forward(x)\n",
    "\n",
    "        scores[:, 0] = -np.inf\n",
    "        scores[np.diag_indices_from(scores)] = -np.inf\n",
    "\n",
    "        predicted_y = cle.decode(scores)\n",
    "\n",
    "        if y != predicted_y:\n",
    "            predicted_arcs = [arc[0] for arc in predicted_y]\n",
    "\n",
    "            sentence_copy = copy.deepcopy(sentence)\n",
    "            sentence_copy.sentence['head'] = predicted_arcs\n",
    "            predicted_feature = np.sum(feature.get(sentence_copy), axis=0)\n",
    "            true_feature = np.sum(true_features, axis=0)\n",
    "\n",
    "            model.weight = np.add(model.weight, true_feature - predicted_feature)"
   ]
  },
  {
   "cell_type": "code",
   "execution_count": 26,
   "metadata": {},
   "outputs": [
    {
     "data": {
      "text/plain": [
       "<dataset.ConllSentence at 0x7f31d602f070>"
      ]
     },
     "execution_count": 26,
     "metadata": {},
     "output_type": "execute_result"
    }
   ],
   "source": [
    "conll_dataset[0]"
   ]
  },
  {
   "cell_type": "code",
   "execution_count": 31,
   "metadata": {},
   "outputs": [
    {
     "ename": "AttributeError",
     "evalue": "'numpy.ndarray' object has no attribute 'get_permutations'",
     "output_type": "error",
     "traceback": [
      "\u001b[0;31m---------------------------------------------------------------------------\u001b[0m",
      "\u001b[0;31mAttributeError\u001b[0m                            Traceback (most recent call last)",
      "Cell \u001b[0;32mIn [31], line 1\u001b[0m\n\u001b[0;32m----> 1\u001b[0m instances \u001b[39m=\u001b[39m \u001b[39mlist\u001b[39;49m(get_training_data(conll_dataset, \u001b[39m100\u001b[39;49m))\n",
      "Cell \u001b[0;32mIn [30], line 17\u001b[0m, in \u001b[0;36mget_training_data\u001b[0;34m(dataset, size)\u001b[0m\n\u001b[1;32m     15\u001b[0m \u001b[39mfor\u001b[39;00m i, (feature, arcs) \u001b[39min\u001b[39;00m \u001b[39menumerate\u001b[39m(y):\n\u001b[1;32m     16\u001b[0m     sentence \u001b[39m=\u001b[39m conll_dataset[i]\n\u001b[0;32m---> 17\u001b[0m     x \u001b[39m=\u001b[39m feature\u001b[39m.\u001b[39;49mget_permutations(sentence)\n\u001b[1;32m     19\u001b[0m     \u001b[39myield\u001b[39;00m x, feature, arcs\n",
      "\u001b[0;31mAttributeError\u001b[0m: 'numpy.ndarray' object has no attribute 'get_permutations'"
     ]
    }
   ],
   "source": [
    "instances = list(get_training_data(conll_dataset, 100))"
   ]
  },
  {
   "cell_type": "code",
   "execution_count": null,
   "metadata": {},
   "outputs": [],
   "source": []
  }
 ],
 "metadata": {
  "kernelspec": {
   "display_name": "Python 3",
   "language": "python",
   "name": "python3"
  },
  "language_info": {
   "codemirror_mode": {
    "name": "ipython",
    "version": 3
   },
   "file_extension": ".py",
   "mimetype": "text/x-python",
   "name": "python",
   "nbconvert_exporter": "python",
   "pygments_lexer": "ipython3",
   "version": "3.10.8"
  },
  "orig_nbformat": 4,
  "vscode": {
   "interpreter": {
    "hash": "e7370f93d1d0cde622a1f8e1c04877d8463912d04d973331ad4851f04de6915a"
   }
  }
 },
 "nbformat": 4,
 "nbformat_minor": 2
}
