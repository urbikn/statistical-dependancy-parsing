{
 "cells": [
  {
   "cell_type": "code",
   "execution_count": 2,
   "metadata": {},
   "outputs": [
    {
     "data": {
      "text/plain": [
       "[[3, 1], [0, 2], [5, 3], [5, 4], [2, 5]]"
      ]
     },
     "execution_count": 2,
     "metadata": {},
     "output_type": "execute_result"
    }
   ],
   "source": [
    "import numpy as np        \n",
    "import decoder\n",
    "\n",
    "np.random.seed(0)\n",
    "size = 6\n",
    "scores = np.random.randint(0, 100, (size, size)).astype(float)\n",
    "scores[:, 0] = -np.Inf\n",
    "scores[np.diag_indices_from(scores)] = -np.Inf\n",
    "\n",
    "\n",
    "cle = decoder.CLE_n()\n",
    "output= cle.decode(scores)\n",
    "output.sort(key=lambda x: x[1])\n",
    "output"
   ]
  },
  {
   "cell_type": "code",
   "execution_count": 3,
   "metadata": {},
   "outputs": [
    {
     "name": "stdout",
     "output_type": "stream",
     "text": [
      "[decode] Max index pairs: {1: 3, 2: 5, 3: 5, 4: 5, 5: 1}\n",
      "[decode] Cycle found: {1: 3, 3: 5, 5: 1}\n",
      "[resolve] New updated graph:\n",
      "{0: {1: 187.0, 2: 64.0, 3: 196.0, 4: 67.0, 5: 149.0},\n",
      " 1: {2: 36.0, 3: 87.0, 4: 70.0, 5: 88.0},\n",
      " 2: {1: 152.0, 3: 194.0, 4: 39.0, 5: 227.0},\n",
      " 3: {1: 88.0, 2: 81.0, 4: 25.0, 5: 77.0},\n",
      " 4: {1: 149.0, 2: 20.0, 3: 209.0, 5: 219.0},\n",
      " 5: {1: 64.0, 2: 82.0, 3: 99.0, 4: 88.0}}\n",
      "[resolve] Starting to create new graph.\n",
      "[resolve] New created graph:\n",
      "{0: {1: 196.0, 2: 64.0, 4: 67.0},\n",
      " 1: {2: 82.0, 4: 88.0},\n",
      " 2: {1: 227.0, 4: 39.0},\n",
      " 4: {1: 219.0, 2: 20.0}}\n",
      "[decode] Max index pairs: {2: 1, 4: 1, 1: 2}\n",
      "[decode] Cycle found: {2: 1, 1: 2}\n",
      "[resolve] New updated graph:\n",
      "{0: {1: 278.0, 2: 291.0, 4: 67.0},\n",
      " 1: {2: 82.0, 4: 88.0},\n",
      " 2: {1: 227.0, 4: 39.0},\n",
      " 4: {1: 301.0, 2: 247.0}}\n",
      "[resolve] Starting to create new graph.\n",
      "[resolve] New created graph:\n",
      "{0: {1: 291.0, 4: 67.0}, 1: {4: 88.0}, 4: {1: 301.0}}\n",
      "[decode] Max index pairs: {4: 1, 1: 4}\n",
      "[decode] Cycle found: {4: 1, 1: 4}\n",
      "[resolve] New updated graph:\n",
      "{0: {1: 379.0, 4: 368.0}, 1: {4: 88.0}, 4: {1: 301.0}}\n",
      "[resolve] Starting to create new graph.\n",
      "[resolve] New created graph:\n",
      "{0: {1: 379.0}, 1: {}}\n",
      "[decode] Max index pairs: {1: 0}\n",
      "[decode] Cycle found: None\n",
      "[decode] No cycle found. Returning max index pairs.\n",
      "[decode] New graph\n",
      "[[0, 1]]\n",
      "[decode] New (resolved) graph\n",
      "[[0, 1]]\n",
      "[resolve cycle] Resolved cycle [[1, 4]]\n",
      "[resolve cycle] Resolved graph\n",
      "[[0, 1], [1, 4]]\n",
      "[decode] New graph\n",
      "[[0, 1], [1, 4]]\n",
      "[decode] New (resolved) graph\n",
      "[[0, 2], [1, 4]]\n",
      "[resolve cycle] Resolved cycle [[2, 1]]\n",
      "[resolve cycle] Resolved graph\n",
      "[[0, 2], [1, 4], [2, 1]]\n",
      "[decode] New graph\n",
      "[[0, 2], [1, 4], [2, 1]]\n",
      "[decode] New (resolved) graph\n",
      "[[0, 2], [5, 4], [2, 5]]\n",
      "[resolve cycle] Resolved cycle [[1, 3], [5, 1]]\n",
      "[resolve cycle] Resolved graph\n",
      "[[0, 2], [5, 4], [2, 5], [1, 3], [5, 1]]\n"
     ]
    }
   ],
   "source": [
    "cle = decoder.CLE(verbose=True)\n",
    "output_true = cle.decode(scores)\n",
    "output_true.sort(key=lambda x: x[1])"
   ]
  },
  {
   "cell_type": "code",
   "execution_count": 4,
   "metadata": {},
   "outputs": [
    {
     "data": {
      "text/plain": [
       "[[5, 1], [0, 2], [1, 3], [5, 4], [2, 5]]"
      ]
     },
     "execution_count": 4,
     "metadata": {},
     "output_type": "execute_result"
    }
   ],
   "source": [
    "output_true"
   ]
  },
  {
   "cell_type": "code",
   "execution_count": 5,
   "metadata": {},
   "outputs": [
    {
     "data": {
      "text/plain": [
       "[[3, 1], [0, 2], [5, 3], [5, 4], [2, 5]]"
      ]
     },
     "execution_count": 5,
     "metadata": {},
     "output_type": "execute_result"
    }
   ],
   "source": [
    "output"
   ]
  },
  {
   "cell_type": "code",
   "execution_count": 6,
   "metadata": {},
   "outputs": [
    {
     "name": "stdout",
     "output_type": "stream",
     "text": [
      "1\n",
      "[[3, 1], [0, 2], [2, 3]]\n",
      "[[2, 1], [0, 2], [1, 3]]\n",
      "\n",
      "[decode] Max index pairs: {1: 3, 2: 1, 3: 2}\n",
      "[decode] Cycle found: {1: 3, 3: 2, 2: 1}\n",
      "[resolve] New updated graph:\n",
      "{0: {1: 102.0, 2: 108.0, 3: 53.0},\n",
      " 1: {2: 79.0, 3: 64.0},\n",
      " 2: {1: 1.0, 3: 71.0},\n",
      " 3: {1: 25.0, 2: 50.0}}\n",
      "[resolve] Starting to create new graph.\n",
      "[resolve] New created graph:\n",
      "{0: {1: 108.0}, 1: {}}\n",
      "[decode] Max index pairs: {1: 0}\n",
      "[decode] Cycle found: None\n",
      "[decode] No cycle found. Returning max index pairs.\n",
      "[decode] New graph\n",
      "[[0, 1]]\n",
      "[decode] New (resolved) graph\n",
      "[[0, 2]]\n",
      "[resolve cycle] Resolved cycle [[1, 3], [2, 1]]\n",
      "[resolve cycle] Resolved graph\n",
      "[[0, 2], [1, 3], [2, 1]]\n",
      "7\n",
      "[[0, 1], [1, 2], [2, 3]]\n",
      "[[0, 1], [3, 2], [1, 3]]\n",
      "\n",
      "[decode] Max index pairs: {1: 3, 2: 1, 3: 2}\n",
      "[decode] Cycle found: {1: 3, 3: 2, 2: 1}\n",
      "[resolve] New updated graph:\n",
      "{0: {1: 66.0, 2: 21.0, 3: 66.0},\n",
      " 1: {2: 92.0, 3: 57.0},\n",
      " 2: {1: 23.0, 3: 89.0},\n",
      " 3: {1: 90.0, 2: 8.0}}\n",
      "[resolve] Starting to create new graph.\n",
      "[resolve] New created graph:\n",
      "{0: {1: 66.0}, 1: {}}\n",
      "[decode] Max index pairs: {1: 0}\n",
      "[decode] Cycle found: None\n",
      "[decode] No cycle found. Returning max index pairs.\n",
      "[decode] New graph\n",
      "[[0, 1]]\n",
      "[decode] New (resolved) graph\n",
      "[[0, 1]]\n",
      "[resolve cycle] Resolved cycle [[1, 3], [3, 2]]\n",
      "[resolve cycle] Resolved graph\n",
      "[[0, 1], [1, 3], [3, 2]]\n",
      "17\n",
      "[[2, 1], [3, 2], [0, 3]]\n",
      "[[3, 1], [1, 2], [0, 3]]\n",
      "\n",
      "[decode] Max index pairs: {1: 2, 2: 3, 3: 1}\n",
      "[decode] Cycle found: {1: 2, 2: 3, 3: 1}\n",
      "[resolve] New updated graph:\n",
      "{0: {1: -23.0, 2: 36.0, 3: 44.0},\n",
      " 1: {2: 31.0, 3: 68.0},\n",
      " 2: {1: 84.0, 3: 7.0},\n",
      " 3: {1: 17.0, 2: 41.0}}\n",
      "[resolve] Starting to create new graph.\n",
      "[resolve] New created graph:\n",
      "{0: {1: 44.0}, 1: {}}\n",
      "[decode] Max index pairs: {1: 0}\n",
      "[decode] Cycle found: None\n",
      "[decode] No cycle found. Returning max index pairs.\n",
      "[decode] New graph\n",
      "[[0, 1]]\n",
      "[decode] New (resolved) graph\n",
      "[[0, 3]]\n",
      "[resolve cycle] Resolved cycle [[1, 2], [3, 1]]\n",
      "[resolve cycle] Resolved graph\n",
      "[[0, 3], [1, 2], [3, 1]]\n",
      "44\n",
      "[[3, 1], [1, 2], [0, 3]]\n",
      "[[2, 1], [3, 2], [0, 3]]\n",
      "\n",
      "[decode] Max index pairs: {1: 3, 2: 1, 3: 2}\n",
      "[decode] Cycle found: {1: 3, 3: 2, 2: 1}\n",
      "[resolve] New updated graph:\n",
      "{0: {1: 89.0, 2: 86.0, 3: 95.0},\n",
      " 1: {2: 84.0, 3: 3.0},\n",
      " 2: {1: 55.0, 3: 89.0},\n",
      " 3: {1: 71.0, 2: 67.0}}\n",
      "[resolve] Starting to create new graph.\n",
      "[resolve] New created graph:\n",
      "{0: {1: 95.0}, 1: {}}\n",
      "[decode] Max index pairs: {1: 0}\n",
      "[decode] Cycle found: None\n",
      "[decode] No cycle found. Returning max index pairs.\n",
      "[decode] New graph\n",
      "[[0, 1]]\n",
      "[decode] New (resolved) graph\n",
      "[[0, 3]]\n",
      "[resolve cycle] Resolved cycle [[3, 2], [2, 1]]\n",
      "[resolve cycle] Resolved graph\n",
      "[[0, 3], [3, 2], [2, 1]]\n",
      "54\n",
      "[[0, 1], [1, 2], [2, 3]]\n",
      "[[0, 1], [3, 2], [1, 3]]\n",
      "\n",
      "[decode] Max index pairs: {1: 3, 2: 1, 3: 2}\n",
      "[decode] Cycle found: {1: 3, 3: 2, 2: 1}\n",
      "[resolve] New updated graph:\n",
      "{0: {1: 35.0, 2: 5.0, 3: 1.0},\n",
      " 1: {2: 56.0, 3: 7.0},\n",
      " 2: {1: 9.0, 3: 68.0},\n",
      " 3: {1: 13.0, 2: 30.0}}\n",
      "[resolve] Starting to create new graph.\n",
      "[resolve] New created graph:\n",
      "{0: {1: 35.0}, 1: {}}\n",
      "[decode] Max index pairs: {1: 0}\n",
      "[decode] Cycle found: None\n",
      "[decode] No cycle found. Returning max index pairs.\n",
      "[decode] New graph\n",
      "[[0, 1]]\n",
      "[decode] New (resolved) graph\n",
      "[[0, 1]]\n",
      "[resolve cycle] Resolved cycle [[1, 3], [3, 2]]\n",
      "[resolve cycle] Resolved graph\n",
      "[[0, 1], [1, 3], [3, 2]]\n",
      "60\n",
      "[[3, 1], [0, 2], [2, 3]]\n",
      "[[2, 1], [0, 2], [1, 3]]\n",
      "\n",
      "[decode] Max index pairs: {1: 3, 2: 1, 3: 2}\n",
      "[decode] Cycle found: {1: 3, 3: 2, 2: 1}\n",
      "[resolve] New updated graph:\n",
      "{0: {1: 57.0, 2: 88.0, 3: 60.0},\n",
      " 1: {2: 72.0, 3: 17.0},\n",
      " 2: {1: 33.0, 3: 40.0},\n",
      " 3: {1: 98.0, 2: 40.0}}\n",
      "[resolve] Starting to create new graph.\n",
      "[resolve] New created graph:\n",
      "{0: {1: 88.0}, 1: {}}\n",
      "[decode] Max index pairs: {1: 0}\n",
      "[decode] Cycle found: None\n",
      "[decode] No cycle found. Returning max index pairs.\n",
      "[decode] New graph\n",
      "[[0, 1]]\n",
      "[decode] New (resolved) graph\n",
      "[[0, 2]]\n",
      "[resolve cycle] Resolved cycle [[1, 3], [2, 1]]\n",
      "[resolve cycle] Resolved graph\n",
      "[[0, 2], [1, 3], [2, 1]]\n",
      "61\n",
      "[[3, 1], [0, 2], [2, 3]]\n",
      "[[2, 1], [0, 2], [1, 3]]\n",
      "\n",
      "[decode] Max index pairs: {1: 3, 2: 1, 3: 2}\n",
      "[decode] Cycle found: {1: 3, 3: 2, 2: 1}\n",
      "[resolve] New updated graph:\n",
      "{0: {1: 81.0, 2: 112.0, 3: 49.0},\n",
      " 1: {2: 42.0, 3: 65.0},\n",
      " 2: {1: 45.0, 3: 87.0},\n",
      " 3: {1: 57.0, 2: 10.0}}\n",
      "[resolve] Starting to create new graph.\n",
      "[resolve] New created graph:\n",
      "{0: {1: 112.0}, 1: {}}\n",
      "[decode] Max index pairs: {1: 0}\n",
      "[decode] Cycle found: None\n",
      "[decode] No cycle found. Returning max index pairs.\n",
      "[decode] New graph\n",
      "[[0, 1]]\n",
      "[decode] New (resolved) graph\n",
      "[[0, 2]]\n",
      "[resolve cycle] Resolved cycle [[1, 3], [2, 1]]\n",
      "[resolve cycle] Resolved graph\n",
      "[[0, 2], [1, 3], [2, 1]]\n",
      "88\n",
      "[[3, 1], [0, 2], [2, 3]]\n",
      "[[2, 1], [0, 2], [1, 3]]\n",
      "\n",
      "[decode] Max index pairs: {1: 3, 2: 1, 3: 2}\n",
      "[decode] Cycle found: {1: 3, 3: 2, 2: 1}\n",
      "[resolve] New updated graph:\n",
      "{0: {1: 154.0, 2: 175.0, 3: 167.0},\n",
      " 1: {2: 97.0, 3: 69.0},\n",
      " 2: {1: 34.0, 3: 75.0},\n",
      " 3: {1: 71.0, 2: 90.0}}\n",
      "[resolve] Starting to create new graph.\n",
      "[resolve] New created graph:\n",
      "{0: {1: 175.0}, 1: {}}\n",
      "[decode] Max index pairs: {1: 0}\n",
      "[decode] Cycle found: None\n",
      "[decode] No cycle found. Returning max index pairs.\n",
      "[decode] New graph\n",
      "[[0, 1]]\n",
      "[decode] New (resolved) graph\n",
      "[[0, 2]]\n",
      "[resolve cycle] Resolved cycle [[1, 3], [2, 1]]\n",
      "[resolve cycle] Resolved graph\n",
      "[[0, 2], [1, 3], [2, 1]]\n",
      "92\n",
      "[[3, 1], [0, 2], [2, 3]]\n",
      "[[2, 1], [0, 2], [1, 3]]\n",
      "\n",
      "[decode] Max index pairs: {1: 3, 2: 1, 3: 2}\n",
      "[decode] Cycle found: {1: 3, 3: 2, 2: 1}\n",
      "[resolve] New updated graph:\n",
      "{0: {1: 114.0, 2: 133.0, 3: 70.0},\n",
      " 1: {2: 28.0, 3: 58.0},\n",
      " 2: {1: 58.0, 3: 84.0},\n",
      " 3: {1: 96.0, 2: 27.0}}\n",
      "[resolve] Starting to create new graph.\n",
      "[resolve] New created graph:\n",
      "{0: {1: 133.0}, 1: {}}\n",
      "[decode] Max index pairs: {1: 0}\n",
      "[decode] Cycle found: None\n",
      "[decode] No cycle found. Returning max index pairs.\n",
      "[decode] New graph\n",
      "[[0, 1]]\n",
      "[decode] New (resolved) graph\n",
      "[[0, 2]]\n",
      "[resolve cycle] Resolved cycle [[1, 3], [2, 1]]\n",
      "[resolve cycle] Resolved graph\n",
      "[[0, 2], [1, 3], [2, 1]]\n"
     ]
    }
   ],
   "source": [
    "for i in range(100):\n",
    "    np.random.seed(i)\n",
    "    size = 4\n",
    "    scores = np.random.randint(0, 100, (size, size)).astype(float)\n",
    "    scores[:, 0] = -np.Inf\n",
    "    scores[np.diag_indices_from(scores)] = -np.Inf\n",
    "\n",
    "\n",
    "    cle = decoder.CLE_n()\n",
    "    output= cle.decode(scores)\n",
    "    output.sort(key=lambda x: x[1])\n",
    "    output\n",
    "\n",
    "    cle = decoder.CLE(verbose=False)\n",
    "    output_true = cle.decode(scores)\n",
    "    output_true.sort(key=lambda x: x[1])\n",
    "\n",
    "    if output != output_true:\n",
    "        print(i)\n",
    "        print(output)\n",
    "        print(output_true)\n",
    "        print()\n",
    "        cle = decoder.CLE(verbose=True)\n",
    "        output_true = cle.decode(scores)\n",
    "        output_true.sort(key=lambda x: x[1])"
   ]
  },
  {
   "cell_type": "code",
   "execution_count": null,
   "metadata": {},
   "outputs": [],
   "source": []
  },
  {
   "cell_type": "code",
   "execution_count": 7,
   "metadata": {},
   "outputs": [],
   "source": [
    "def matrix_to_graph_test(scores):\n",
    "    '''Transform adjacency matrix into dictionary, where V= {start node: {end node: cost}}'''\n",
    "    graph = {}\n",
    "    for i_start, row in enumerate(scores):\n",
    "        arcs = {str(i_end):{'score': score} for i_end, score in enumerate(row) if score != -np.Inf}\n",
    "\n",
    "        # Don't include nodes that have no connections\n",
    "        if len(arcs) > 0:\n",
    "            graph[str(i_start)] = arcs \n",
    "    \n",
    "    return graph"
   ]
  },
  {
   "cell_type": "code",
   "execution_count": 8,
   "metadata": {},
   "outputs": [],
   "source": [
    "import networkx as nx\n",
    "\n",
    "graph = matrix_to_graph_test(scores)\n",
    "\n",
    "nx_graph = nx.DiGraph(graph)\n",
    "\n",
    "cle2 = nx.algorithms.tree.branchings.Edmonds(nx_graph)\n",
    "cle_graph2 = cle2.find_optimum(attr='score', kind='max', style=\"aborescence\", preserve_attrs=True)\n",
    "cle_graph2_dict = nx.to_dict_of_dicts(cle_graph2)\n",
    "\n",
    "arcs = []\n",
    "for head in cle_graph2_dict.keys():\n",
    "    if len(cle_graph2_dict[head]):\n",
    "        for dep in cle_graph2_dict[head]:\n",
    "            arcs.append([int(head), int(dep)])\n",
    "\n",
    "arcs.sort(key=lambda x: x[1])  "
   ]
  },
  {
   "cell_type": "code",
   "execution_count": 9,
   "metadata": {},
   "outputs": [
    {
     "data": {
      "text/plain": [
       "{('0', '1'): 35.0,\n",
       " ('0', '2'): 57.0,\n",
       " ('0', '3'): 40.0,\n",
       " ('1', '2'): 68.0,\n",
       " ('1', '3'): 69.0,\n",
       " ('2', '1'): 1.0,\n",
       " ('2', '3'): 35.0,\n",
       " ('3', '1'): 65.0,\n",
       " ('3', '2'): 48.0}"
      ]
     },
     "execution_count": 9,
     "metadata": {},
     "output_type": "execute_result"
    }
   ],
   "source": [
    "labels = {e: nx_graph.edges[e]['score'] for e in nx_graph.edges}\n",
    "labels\n"
   ]
  },
  {
   "cell_type": "code",
   "execution_count": 10,
   "metadata": {},
   "outputs": [
    {
     "data": {
      "image/png": "[encoded data removed]",
      "text/plain": [
       "<Figure size 640x480 with 1 Axes>"
      ]
     },
     "metadata": {},
     "output_type": "display_data"
    }
   ],
   "source": [
    "nx.draw_networkx(nx_graph, with_labels=True)"
   ]
  },
  {
   "cell_type": "code",
   "execution_count": 11,
   "metadata": {},
   "outputs": [
    {
     "data": {
      "text/plain": [
       "{('0', '3'): 40.0, ('1', '2'): 68.0, ('3', '1'): 65.0}"
      ]
     },
     "execution_count": 11,
     "metadata": {},
     "output_type": "execute_result"
    }
   ],
   "source": [
    "pos=nx.get_node_attributes(cle_graph2,'pos')\n",
    "labels = {e: cle_graph2.edges[e]['score'] for e in cle_graph2.edges}\n",
    "labels"
   ]
  },
  {
   "cell_type": "code",
   "execution_count": 12,
   "metadata": {},
   "outputs": [
    {
     "data": {
      "image/png": "[encoded data removed]",
      "text/plain": [
       "<Figure size 640x480 with 1 Axes>"
      ]
     },
     "metadata": {},
     "output_type": "display_data"
    }
   ],
   "source": [
    "nx.draw_networkx(cle_graph2)"
   ]
  },
  {
   "cell_type": "code",
   "execution_count": 13,
   "metadata": {},
   "outputs": [
    {
     "data": {
      "text/plain": [
       "{'0': {'1': {'score': 35.0}, '2': {'score': 57.0}, '3': {'score': 40.0}},\n",
       " '1': {'2': {'score': 68.0}, '3': {'score': 69.0}},\n",
       " '2': {'1': {'score': 1.0}, '3': {'score': 35.0}},\n",
       " '3': {'1': {'score': 65.0}, '2': {'score': 48.0}}}"
      ]
     },
     "execution_count": 13,
     "metadata": {},
     "output_type": "execute_result"
    }
   ],
   "source": [
    "graph"
   ]
  },
  {
   "cell_type": "code",
   "execution_count": 14,
   "metadata": {},
   "outputs": [
    {
     "data": {
      "text/plain": [
       "{0: {1: 35.0, 2: 57.0, 3: 40.0},\n",
       " 1: {2: 68.0, 3: 69.0},\n",
       " 2: {1: 1.0, 3: 35.0},\n",
       " 3: {1: 65.0, 2: 48.0}}"
      ]
     },
     "execution_count": 14,
     "metadata": {},
     "output_type": "execute_result"
    }
   ],
   "source": [
    "n_graph = {}\n",
    "for key, values in graph.items():\n",
    "    if key not in n_graph:\n",
    "        n_graph[int(key)] = {}\n",
    "\n",
    "    for k, v in values.items():\n",
    "        n_graph[int(key)][int(k)] = v['score']\n",
    "\n",
    "n_graph"
   ]
  },
  {
   "cell_type": "code",
   "execution_count": 32,
   "metadata": {},
   "outputs": [],
   "source": [
    "def reverse_graph(graph):\n",
    "    # Reverse graph\n",
    "    reverse_graph = {}\n",
    "    for head in graph:\n",
    "        for (dep, score) in graph[head].items():\n",
    "            if dep in reverse_graph:\n",
    "                reverse_graph[dep][head] = score\n",
    "            else:\n",
    "                reverse_graph[dep] = {head: score}\n",
    "    return reverse_graph\n",
    "\n",
    "def find_cycle(index_pairs):\n",
    "    seen = {'0'}\n",
    "    for node in index_pairs:\n",
    "        path = []\n",
    "\n",
    "        while node not in seen:\n",
    "            seen.add(node)\n",
    "            path.append(node)\n",
    "            # TODO: currently have score\n",
    "            node = list(index_pairs[node].keys())[0]\n",
    "\n",
    "        if node in path: # A way to break out if we get into an infinite loop\n",
    "            return path[path.index(node):]\n",
    "\n",
    "    return None\n",
    "\n",
    "def max_edges(reverse_graph):\n",
    "    # Find max connections\n",
    "    best_edge = {dep:{0: {'score': -np.Inf}} for dep in reverse_graph}\n",
    "    for dep, edges in reverse_graph.items():\n",
    "        for head, score in edges.items(): \n",
    "            max_score = list(best_edge[dep].values())[0]\n",
    "            if max_score['score'] < score['score']:\n",
    "                best_edge[dep] = {head: score}\n",
    "\n",
    "    return best_edge"
   ]
  },
  {
   "cell_type": "code",
   "execution_count": 36,
   "metadata": {},
   "outputs": [
    {
     "name": "stdout",
     "output_type": "stream",
     "text": [
      "{'1': {'3': {'score': 65.0}}, '2': {'1': {'score': 68.0}}, '3': {'1': {'score': 69.0}}}\n",
      "['1', '3']\n",
      "boom\n"
     ]
    }
   ],
   "source": [
    "\n",
    "reversed_graph = reverse_graph(graph)\n",
    "max_edge = max_edges(reversed_graph)\n",
    "\n",
    "cycle = find_cycle(max_edge)\n",
    "if cycle != None:\n",
    "    graph\n",
    "\n"
   ]
  },
  {
   "cell_type": "code",
   "execution_count": 85,
   "metadata": {},
   "outputs": [
    {
     "data": {
      "text/plain": [
       "{'1': {'3': {'score': 65.0}},\n",
       " '2': {'1': {'score': 68.0}},\n",
       " '3': {'1': {'score': 69.0}}}"
      ]
     },
     "execution_count": 85,
     "metadata": {},
     "output_type": "execute_result"
    }
   ],
   "source": []
  },
  {
   "cell_type": "code",
   "execution_count": 128,
   "metadata": {},
   "outputs": [],
   "source": [
    "def find_cycle(index_pairs):\n",
    "    seen = {'0'}\n",
    "    for node in index_pairs:\n",
    "        path = []\n",
    "\n",
    "        while node not in seen:\n",
    "            seen.add(node)\n",
    "            path.append(node)\n",
    "            # TODO: currently have score\n",
    "            node = list(index_pairs[node].keys())[0]\n",
    "\n",
    "        if node in path: # A way to break out if we get into an infinite loop\n",
    "            return path[path.index(node):]\n",
    "\n",
    "    return None"
   ]
  },
  {
   "cell_type": "code",
   "execution_count": 131,
   "metadata": {},
   "outputs": [],
   "source": [
    "cycle = find_cycle(best_edge)\n",
    "if len(cycle) == 0:\n",
    "    pass\n",
    "    # return cycle"
   ]
  },
  {
   "cell_type": "code",
   "execution_count": null,
   "metadata": {},
   "outputs": [],
   "source": [
    "def CLE(graph):"
   ]
  }
 ],
 "metadata": {
  "kernelspec": {
   "display_name": ".venv",
   "language": "python",
   "name": "python3"
  },
  "language_info": {
   "codemirror_mode": {
    "name": "ipython",
    "version": 3
   },
   "file_extension": ".py",
   "mimetype": "text/x-python",
   "name": "python",
   "nbconvert_exporter": "python",
   "pygments_lexer": "ipython3",
   "version": "3.10.8"
  },
  "orig_nbformat": 4,
  "vscode": {
   "interpreter": {
    "hash": "9b5cba8825993ec79e4a011c10322d669802b2af8cf84efb3d3ee7502f05587e"
   }
  }
 },
 "nbformat": 4,
 "nbformat_minor": 2
}
